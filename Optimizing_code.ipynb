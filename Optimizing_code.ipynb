{
 "cells": [
  {
   "cell_type": "markdown",
   "metadata": {},
   "source": [
    "# Optimizing Code"
   ]
  },
  {
   "cell_type": "markdown",
   "metadata": {},
   "source": [
    "This notebook experiments with some simple dataset and demonstrate how to test the code efficiency using python's built-in module `time`."
   ]
  },
  {
   "cell_type": "code",
   "execution_count": 4,
   "metadata": {},
   "outputs": [],
   "source": [
    "import time\n",
    "import os"
   ]
  },
  {
   "cell_type": "code",
   "execution_count": 9,
   "metadata": {},
   "outputs": [],
   "source": [
    "# change the default directory to the current working directory\n",
    "os.chdir('/Users/alejandrosanz/Downloads/projects_on_GitHub/data_wrangling/coding_experiments/time_your_code/data/')"
   ]
  },
  {
   "cell_type": "markdown",
   "metadata": {},
   "source": [
    "## Case 1: Find Common Books\n",
    "\n",
    "There are two `txt` files. With the following codes to find the common book ids in `books_published_last_two_years.txt` and `all_coding_books.txt` to obtain a list of recent coding books."
   ]
  },
  {
   "cell_type": "code",
   "execution_count": 12,
   "metadata": {},
   "outputs": [],
   "source": [
    "with open('books_published_last_two_years.txt') as f:\n",
    "    recent_books = f.read().split('\\n')\n",
    "    \n",
    "with open('all_coding_books.txt') as f:\n",
    "    coding_books = f.read().split('\\n')"
   ]
  },
  {
   "cell_type": "markdown",
   "metadata": {},
   "source": [
    "### Using loops"
   ]
  },
  {
   "cell_type": "code",
   "execution_count": 14,
   "metadata": {},
   "outputs": [
    {
     "name": "stdout",
     "output_type": "stream",
     "text": [
      "Total recent books: 96.\n",
      "Duration: 12.488204002380371 seconds\n"
     ]
    }
   ],
   "source": [
    "# record the time to start\n",
    "start = time.time()\n",
    "\n",
    "# initiate a list to record the recent coding book\n",
    "recent_coding_books = []\n",
    "\n",
    "for book in recent_books:\n",
    "    if book in coding_books:\n",
    "        recent_coding_books.append(book)\n",
    "\n",
    "# record the time end of the loop\n",
    "end = time.time()\n",
    "\n",
    "# calculate the time difference\n",
    "duration = end - start\n",
    "\n",
    "# print out the results\n",
    "print(\"Total recent books: {}.\".format(len(recent_coding_books)))\n",
    "print('Duration: {} seconds'.format(duration))"
   ]
  },
  {
   "cell_type": "markdown",
   "metadata": {},
   "source": [
    "### Using vectorized method provided by numpy"
   ]
  },
  {
   "cell_type": "code",
   "execution_count": 15,
   "metadata": {},
   "outputs": [
    {
     "name": "stdout",
     "output_type": "stream",
     "text": [
      "Total recent books: 96.\n",
      "Duration: 0.042433977127075195 seconds\n"
     ]
    }
   ],
   "source": [
    "# record the time to start\n",
    "start = time.time()\n",
    "\n",
    "# using numpy's intersect1d method to calculate the common elements in two arrays.\n",
    "recent_coding_books = np.intersect1d(recent_books, coding_books)\n",
    "\n",
    "# record the time end of the loop\n",
    "end = time.time()\n",
    "\n",
    "# calculate the time difference\n",
    "duration = end - start\n",
    "\n",
    "# print out the results\n",
    "print(\"Total recent books: {}.\".format(len(recent_coding_books)))\n",
    "print('Duration: {} seconds'.format(duration))"
   ]
  },
  {
   "cell_type": "markdown",
   "metadata": {},
   "source": [
    "### Using python's built-in set "
   ]
  },
  {
   "cell_type": "code",
   "execution_count": 17,
   "metadata": {},
   "outputs": [
    {
     "name": "stdout",
     "output_type": "stream",
     "text": [
      "Total recent books: 96.\n",
      "Duration: 0.009217977523803711 seconds\n"
     ]
    }
   ],
   "source": [
    "# record the time to start\n",
    "start = time.time()\n",
    "\n",
    "# using the property's of SET data structure in built-in python.\n",
    "recent_coding_books = set(recent_books).intersection(set(coding_books))\n",
    "# recent_coding_books = set(recent_books) & set(coding_books)\n",
    "\n",
    "# record the time end of the loop\n",
    "end = time.time()\n",
    "\n",
    "# calculate the time difference\n",
    "duration = end - start\n",
    "\n",
    "# print out the results\n",
    "print(\"Total recent books: {}.\".format(len(recent_coding_books)))\n",
    "print('Duration: {} seconds'.format(duration))"
   ]
  },
  {
   "cell_type": "markdown",
   "metadata": {},
   "source": [
    "**Conclusion**: From above, We can see for this scenario, the execution time for the SET method is the shortest."
   ]
  },
  {
   "cell_type": "code",
   "execution_count": null,
   "metadata": {},
   "outputs": [],
   "source": []
  }
 ],
 "metadata": {
  "kernelspec": {
   "display_name": "Python 3",
   "language": "python",
   "name": "python3"
  },
  "language_info": {
   "codemirror_mode": {
    "name": "ipython",
    "version": 3
   },
   "file_extension": ".py",
   "mimetype": "text/x-python",
   "name": "python",
   "nbconvert_exporter": "python",
   "pygments_lexer": "ipython3",
   "version": "3.7.9"
  }
 },
 "nbformat": 4,
 "nbformat_minor": 4
}
